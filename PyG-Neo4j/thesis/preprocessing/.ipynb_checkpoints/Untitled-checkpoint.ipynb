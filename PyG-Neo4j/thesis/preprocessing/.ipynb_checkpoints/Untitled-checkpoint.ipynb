{
 "cells": [
  {
   "cell_type": "code",
   "execution_count": 91,
   "id": "5432edaf",
   "metadata": {},
   "outputs": [],
   "source": [
    "import pandas as pd\n",
    "import numpy as np\n",
    "import torch"
   ]
  },
  {
   "cell_type": "code",
   "execution_count": 92,
   "id": "4f3ae6b5",
   "metadata": {
    "scrolled": true
   },
   "outputs": [
    {
     "data": {
      "text/plain": [
       "array([[1, 0, 0],\n",
       "       [0, 1, 1],\n",
       "       [0, 1, 0],\n",
       "       [1, 0, 1]], dtype=uint8)"
      ]
     },
     "execution_count": 92,
     "metadata": {},
     "output_type": "execute_result"
    }
   ],
   "source": [
    "test_list = [[1, 0, 0],\n",
    "                   [0, 1, 1],\n",
    "                   [0, 1, 0],\n",
    "                  [1, 0, 1]]\n",
    "\n",
    "df = pd.DataFrame(test_list, columns=['var1', 'var2', 'var3'])\n",
    "diagnoses = np.array(df).astype(np.uint8)\n",
    "diagnoses"
   ]
  },
  {
   "cell_type": "code",
   "execution_count": 83,
   "id": "27ed0f33",
   "metadata": {},
   "outputs": [],
   "source": [
    "diagnoses = torch.tensor(diagnoses).type(torch.cuda.sparse.FloatTensor)"
   ]
  },
  {
   "cell_type": "code",
   "execution_count": 84,
   "id": "3d8295dc",
   "metadata": {},
   "outputs": [
    {
     "data": {
      "text/plain": [
       "tensor([[1., 0., 0.],\n",
       "        [0., 1., 1.],\n",
       "        [0., 1., 0.],\n",
       "        [1., 0., 1.]], device='cuda:0')"
      ]
     },
     "execution_count": 84,
     "metadata": {},
     "output_type": "execute_result"
    }
   ],
   "source": [
    "diagnoses"
   ]
  },
  {
   "cell_type": "code",
   "execution_count": 89,
   "id": "8b7339bf",
   "metadata": {},
   "outputs": [
    {
     "data": {
      "text/plain": [
       "tensor([[1., 0., 0., 1.],\n",
       "        [0., 2., 1., 1.],\n",
       "        [0., 1., 1., 0.],\n",
       "        [1., 1., 0., 2.]], device='cuda:0')"
      ]
     },
     "execution_count": 89,
     "metadata": {},
     "output_type": "execute_result"
    }
   ],
   "source": [
    "output = torch.sparse.mm(diagnoses, diagnoses.permute(1, 0))\n",
    "output"
   ]
  },
  {
   "cell_type": "code",
   "execution_count": 90,
   "id": "51818e00",
   "metadata": {},
   "outputs": [
    {
     "data": {
      "text/plain": [
       "tensor([[1., 0., 0., 1.],\n",
       "        [0., 2., 1., 1.],\n",
       "        [0., 1., 1., 0.],\n",
       "        [1., 1., 0., 2.]], device='cuda:0')"
      ]
     },
     "execution_count": 90,
     "metadata": {},
     "output_type": "execute_result"
    }
   ],
   "source": [
    "x = torch.empty(diagnoses.shape[0], diagnoses.shape[0]).type(torch.cuda.sparse.FloatTensor)\n",
    "\n",
    "for indx, row in df.iterrows():\n",
    "    each_patient = row.values.reshape(-1, 3)\n",
    "    e_p_tensor = torch.tensor(each_patient).type(torch.cuda.sparse.FloatTensor)\n",
    "    each_output = torch.sparse.mm(e_p_tensor, diagnoses.permute(1, 0))\n",
    "    x[indx] = each_output\n",
    "    \n",
    "x"
   ]
  },
  {
   "cell_type": "code",
   "execution_count": 93,
   "id": "224b9c3c",
   "metadata": {},
   "outputs": [
    {
     "name": "stdout",
     "output_type": "stream",
     "text": [
      "[[1 0 0]]\n",
      "[[0 1 1]]\n",
      "[[0 1 0]]\n",
      "[[1 0 1]]\n"
     ]
    }
   ],
   "source": [
    "for indx, row in df.iterrows():\n",
    "    print(row)\n",
    "    each_patient = row.values.reshape(-1, 3)\n",
    "    "
   ]
  },
  {
   "cell_type": "code",
   "execution_count": null,
   "id": "8003b4db",
   "metadata": {},
   "outputs": [],
   "source": []
  }
 ],
 "metadata": {
  "kernelspec": {
   "display_name": "Python 3.10.4 64-bit",
   "language": "python",
   "name": "python3"
  },
  "language_info": {
   "codemirror_mode": {
    "name": "ipython",
    "version": 3
   },
   "file_extension": ".py",
   "mimetype": "text/x-python",
   "name": "python",
   "nbconvert_exporter": "python",
   "pygments_lexer": "ipython3",
   "version": "3.10.4"
  },
  "vscode": {
   "interpreter": {
    "hash": "916dbcbb3f70747c44a77c7bcd40155683ae19c65e1c03b4aa3499c5328201f1"
   }
  }
 },
 "nbformat": 4,
 "nbformat_minor": 5
}
