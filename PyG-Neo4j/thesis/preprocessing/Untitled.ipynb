{
 "cells": [
  {
   "cell_type": "code",
   "execution_count": 91,
   "id": "6896fbdd",
   "metadata": {},
   "outputs": [],
   "source": [
    "import pandas as pd\n",
    "import numpy as np\n",
    "import torch"
   ]
  },
  {
   "cell_type": "code",
   "execution_count": 92,
   "id": "614de073",
   "metadata": {
    "scrolled": true
   },
   "outputs": [
    {
     "data": {
      "text/plain": [
       "array([[1, 0, 0],\n",
       "       [0, 1, 1],\n",
       "       [0, 1, 0],\n",
       "       [1, 0, 1]], dtype=uint8)"
      ]
     },
     "execution_count": 92,
     "metadata": {},
     "output_type": "execute_result"
    }
   ],
   "source": [
    "test_list = [[1, 0, 0],\n",
    "                   [0, 1, 1],\n",
    "                   [0, 1, 0],\n",
    "                  [1, 0, 1]]\n",
    "\n",
    "df = pd.DataFrame(test_list, columns=['var1', 'var2', 'var3'])\n",
    "diagnoses = np.array(df).astype(np.uint8)\n",
    "diagnoses"
   ]
  },
  {
   "cell_type": "code",
   "execution_count": 83,
   "id": "83193bf8",
   "metadata": {},
   "outputs": [],
   "source": [
    "diagnoses = torch.tensor(diagnoses).type(torch.cuda.sparse.FloatTensor)"
   ]
  },
  {
   "cell_type": "code",
   "execution_count": 84,
   "id": "8cac73f9",
   "metadata": {},
   "outputs": [
    {
     "data": {
      "text/plain": [
       "tensor([[1., 0., 0.],\n",
       "        [0., 1., 1.],\n",
       "        [0., 1., 0.],\n",
       "        [1., 0., 1.]], device='cuda:0')"
      ]
     },
     "execution_count": 84,
     "metadata": {},
     "output_type": "execute_result"
    }
   ],
   "source": [
    "diagnoses"
   ]
  },
  {
   "cell_type": "code",
   "execution_count": 89,
   "id": "68056ae7",
   "metadata": {},
   "outputs": [
    {
     "data": {
      "text/plain": [
       "tensor([[1., 0., 0., 1.],\n",
       "        [0., 2., 1., 1.],\n",
       "        [0., 1., 1., 0.],\n",
       "        [1., 1., 0., 2.]], device='cuda:0')"
      ]
     },
     "execution_count": 89,
     "metadata": {},
     "output_type": "execute_result"
    }
   ],
   "source": [
    "output = torch.sparse.mm(diagnoses, diagnoses.permute(1, 0))\n",
    "output"
   ]
  },
  {
   "cell_type": "code",
   "execution_count": 90,
   "id": "f4950d3f",
   "metadata": {},
   "outputs": [
    {
     "data": {
      "text/plain": [
       "tensor([[1., 0., 0., 1.],\n",
       "        [0., 2., 1., 1.],\n",
       "        [0., 1., 1., 0.],\n",
       "        [1., 1., 0., 2.]], device='cuda:0')"
      ]
     },
     "execution_count": 90,
     "metadata": {},
     "output_type": "execute_result"
    }
   ],
   "source": [
    "x = torch.empty(diagnoses.shape[0], diagnoses.shape[0]).type(torch.cuda.sparse.FloatTensor)\n",
    "\n",
    "for indx, row in df.iterrows():\n",
    "    each_patient = row.values.reshape(-1, 3)\n",
    "    e_p_tensor = torch.tensor(each_patient).type(torch.cuda.sparse.FloatTensor)\n",
    "    each_output = torch.sparse.mm(e_p_tensor, diagnoses.permute(1, 0))\n",
    "    x[indx] = each_output\n",
    "    \n",
    "x"
   ]
  },
  {
   "cell_type": "code",
   "execution_count": 98,
   "id": "d916a5d3",
   "metadata": {},
   "outputs": [
    {
     "name": "stdout",
     "output_type": "stream",
     "text": [
      "(3,)\n",
      "[[1 0 0]]\n",
      "(3,)\n",
      "[[0 1 1]]\n",
      "(3,)\n",
      "[[0 1 0]]\n",
      "(3,)\n",
      "[[1 0 1]]\n"
     ]
    }
   ],
   "source": [
    "for indx, row in df.iterrows():\n",
    "    print(row.values.shape)\n",
    "    each_patient = row.values.reshape(-1, diagnoses.shape[1])\n",
    "    print(each_patient)"
   ]
  },
  {
   "cell_type": "code",
   "execution_count": null,
   "id": "b931650a",
   "metadata": {},
   "outputs": [],
   "source": []
  }
 ],
 "metadata": {
  "kernelspec": {
   "display_name": "Python 3 (ipykernel)",
   "language": "python",
   "name": "python3"
  },
  "language_info": {
   "codemirror_mode": {
    "name": "ipython",
    "version": 3
   },
   "file_extension": ".py",
   "mimetype": "text/x-python",
   "name": "python",
   "nbconvert_exporter": "python",
   "pygments_lexer": "ipython3",
   "version": "3.10.4"
  }
 },
 "nbformat": 4,
 "nbformat_minor": 5
}
