{
 "cells": [
  {
   "cell_type": "code",
   "execution_count": 53,
   "id": "c3b8cce3",
   "metadata": {},
   "outputs": [],
   "source": [
    "import numpy as np\n",
    "import pandas as pd\n",
    "import matplotlib.pyplot as plt\n",
    "import seaborn as sns\n",
    "import tensorflow as tf\n",
    "from tensorflow.keras.models import Sequential\n",
    "from tensorflow.keras.layers import Dense\n",
    "from tensorflow.keras.layers import LSTM\n",
    "from tensorflow.keras.layers import Bidirectional\n",
    "from tensorflow.keras.layers import Input\n",
    "from tensorflow.keras.layers import Dropout\n",
    "from tensorflow.keras import regularizers\n",
    "from tensorflow.keras.layers import Concatenate\n",
    "from tensorflow.keras import Model\n",
    "from keras import backend as K\n",
    "from tensorflow.keras.metrics import AUC\n",
    "from sklearn.metrics import ConfusionMatrixDisplay\n",
    "from sklearn.metrics import confusion_matrix"
   ]
  },
  {
   "cell_type": "code",
   "execution_count": 54,
   "id": "19422153",
   "metadata": {},
   "outputs": [],
   "source": [
    "#Train dataset creation\n",
    "num_steps = 24\n",
    "num_features_t = 35\n",
    "timeseries_train_df = pd.read_csv('/media/nasim/31c299f0-f952-4032-9bd8-001b141183e0/ML-Libraries-Graph-Database-Neo4j/PyG-Neo4j/app/eICU_data/train/timeseries.csv')\n",
    "flat_train_df = pd.read_csv('/media/nasim/31c299f0-f952-4032-9bd8-001b141183e0/ML-Libraries-Graph-Database-Neo4j/PyG-Neo4j/app/eICU_data/train/flat.csv')\n",
    "labels_train_df = pd.read_csv('/media/nasim/31c299f0-f952-4032-9bd8-001b141183e0/ML-Libraries-Graph-Database-Neo4j/PyG-Neo4j/app/eICU_data/train/labels.csv')\n",
    "arr_timeseries_train = timeseries_train_df.values\n",
    "x_train_reshape = np.reshape(arr_timeseries_train, (-1, num_steps, num_features_t))\n",
    "x_train_reshape = x_train_reshape[:, :, 1:] # Removed patient column\n",
    "\n",
    "flat_train_df = flat_train_df.fillna(flat_train_df.mean())\n",
    "x_train_over_static = flat_train_df.iloc[:, 1:]\n",
    "\n",
    "y_train = labels_train_df['actualiculos']"
   ]
  },
  {
   "cell_type": "code",
   "execution_count": 55,
   "id": "76d44146",
   "metadata": {},
   "outputs": [],
   "source": [
    "#Test dataset creation\n",
    "num_steps = 24\n",
    "num_features_t = 35\n",
    "timeseries_test_df = pd.read_csv('/media/nasim/31c299f0-f952-4032-9bd8-001b141183e0/ML-Libraries-Graph-Database-Neo4j/PyG-Neo4j/app/eICU_data/test/timeseries.csv')\n",
    "flat_test_df = pd.read_csv('/media/nasim/31c299f0-f952-4032-9bd8-001b141183e0/ML-Libraries-Graph-Database-Neo4j/PyG-Neo4j/app/eICU_data/test/flat.csv')\n",
    "labels_test_df = pd.read_csv('/media/nasim/31c299f0-f952-4032-9bd8-001b141183e0/ML-Libraries-Graph-Database-Neo4j/PyG-Neo4j/app/eICU_data/test/labels.csv')\n",
    "arr_timeseries_test = timeseries_test_df.values\n",
    "x_test_reshape = np.reshape(arr_timeseries_test, (-1, num_steps, num_features_t))\n",
    "x_test_reshape = x_test_reshape[:, :, 1:] # Removed patient column\n",
    "\n",
    "flat_test_df = flat_test_df.fillna(flat_train_df.mean())\n",
    "x_test_over_static = flat_test_df.iloc[:, 1:]\n",
    "\n",
    "y_test = labels_test_df['actualiculos']"
   ]
  },
  {
   "cell_type": "code",
   "execution_count": 56,
   "id": "6e73b1e1",
   "metadata": {},
   "outputs": [],
   "source": [
    "#Validation dataset creation\n",
    "num_steps = 24\n",
    "num_features_t = 35\n",
    "timeseries_val_df = pd.read_csv('/media/nasim/31c299f0-f952-4032-9bd8-001b141183e0/ML-Libraries-Graph-Database-Neo4j/PyG-Neo4j/app/eICU_data/val/timeseries.csv')\n",
    "flat_val_df = pd.read_csv('/media/nasim/31c299f0-f952-4032-9bd8-001b141183e0/ML-Libraries-Graph-Database-Neo4j/PyG-Neo4j/app/eICU_data/val/flat.csv')\n",
    "labels_val_df = pd.read_csv('/media/nasim/31c299f0-f952-4032-9bd8-001b141183e0/ML-Libraries-Graph-Database-Neo4j/PyG-Neo4j/app/eICU_data/val/labels.csv')\n",
    "arr_timeseries_val = timeseries_val_df.values\n",
    "x_val_reshape = np.reshape(arr_timeseries_val, (-1, num_steps, num_features_t))\n",
    "x_val_reshape = x_val_reshape[:, :, 1:] # Removed patient column\n",
    "\n",
    "flat_val_df = flat_val_df.fillna(flat_train_df.mean())\n",
    "x_val_over_static = flat_val_df.iloc[:, 1:]\n",
    "\n",
    "y_val = labels_val_df['actualiculos']"
   ]
  },
  {
   "cell_type": "code",
   "execution_count": 57,
   "id": "272ec860",
   "metadata": {},
   "outputs": [],
   "source": [
    "# Define timesteps and the number of featuresn_timesteps = 24\n",
    "n_timesteps = 24\n",
    "n_features = 34\n",
    "n_outputs = 1\n",
    "epochs = 10\n",
    "batch_size = 64\n",
    "verbose = False"
   ]
  },
  {
   "cell_type": "code",
   "execution_count": 58,
   "id": "3e30cd38",
   "metadata": {},
   "outputs": [],
   "source": [
    "# Define input layer\n",
    "recurrent_input = Input(shape=(n_timesteps,n_features),name=\"TIMESERIES_INPUT\")\n",
    "\n",
    "static_input = Input(shape=(x_train_over_static.shape[1], ),name=\"STATIC_INPUT\")"
   ]
  },
  {
   "cell_type": "code",
   "execution_count": 59,
   "id": "eccc09eb",
   "metadata": {},
   "outputs": [],
   "source": [
    "# layer - 1\n",
    "rec_layer_one = Bidirectional(LSTM(128, kernel_regularizer=regularizers.L2(0.01), recurrent_regularizer=regularizers.L2(0.01),return_sequences=True),name =\"BIDIRECTIONAL_LAYER_1\")(recurrent_input)\n",
    "rec_layer_one = Dropout(0.1,name =\"DROPOUT_LAYER_1\")(rec_layer_one)\n",
    "# layer - 2\n",
    "rec_layer_two = Bidirectional(LSTM(64, kernel_regularizer=regularizers.L2(0.01), recurrent_regularizer=regularizers.L2(0.01)),name =\"BIDIRECTIONAL_LAYER_2\")(rec_layer_one)\n",
    "rec_layer_two = Dropout(0.1,name =\"DROPOUT_LAYER_2\")(rec_layer_two)\n",
    "# SLP Layers\n",
    "static_layer_one = Dense(64,  kernel_regularizer=regularizers.L2(0.001),  activation='relu',name=\"DENSE_LAYER_1\")(static_input)"
   ]
  },
  {
   "cell_type": "code",
   "execution_count": 60,
   "id": "1ae7b882",
   "metadata": {},
   "outputs": [],
   "source": [
    "# Combine layers - RNN + SLP\n",
    "combined = Concatenate(axis= 1,name = \"CONCATENATED_TIMESERIES_STATIC\")([rec_layer_two,static_layer_one])\n",
    "combined_dense_two = Dense(64, activation='relu',name=\"DENSE_LAYER_2\")(combined)\n",
    "output = Dense(n_outputs,activation='linear',name=\"OUTPUT_LAYER\")(combined_dense_two)"
   ]
  },
  {
   "cell_type": "code",
   "execution_count": 61,
   "id": "059516a1",
   "metadata": {},
   "outputs": [],
   "source": [
    "# Compile ModeL\n",
    "model = Model(inputs=[recurrent_input,static_input],outputs=[output])"
   ]
  },
  {
   "cell_type": "code",
   "execution_count": 62,
   "id": "e7d59203",
   "metadata": {},
   "outputs": [],
   "source": [
    "# binary cross entropy loss\n",
    "model.compile(loss='mse', optimizer='adam')"
   ]
  },
  {
   "cell_type": "code",
   "execution_count": 63,
   "id": "026597ae",
   "metadata": {},
   "outputs": [
    {
     "name": "stdout",
     "output_type": "stream",
     "text": [
      "Model: \"model_3\"\n",
      "__________________________________________________________________________________________________\n",
      " Layer (type)                   Output Shape         Param #     Connected to                     \n",
      "==================================================================================================\n",
      " TIMESERIES_INPUT (InputLayer)  [(None, 24, 34)]     0           []                               \n",
      "                                                                                                  \n",
      " BIDIRECTIONAL_LAYER_1 (Bidirec  (None, 24, 256)     166912      ['TIMESERIES_INPUT[0][0]']       \n",
      " tional)                                                                                          \n",
      "                                                                                                  \n",
      " DROPOUT_LAYER_1 (Dropout)      (None, 24, 256)      0           ['BIDIRECTIONAL_LAYER_1[0][0]']  \n",
      "                                                                                                  \n",
      " BIDIRECTIONAL_LAYER_2 (Bidirec  (None, 128)         164352      ['DROPOUT_LAYER_1[0][0]']        \n",
      " tional)                                                                                          \n",
      "                                                                                                  \n",
      " STATIC_INPUT (InputLayer)      [(None, 92)]         0           []                               \n",
      "                                                                                                  \n",
      " DROPOUT_LAYER_2 (Dropout)      (None, 128)          0           ['BIDIRECTIONAL_LAYER_2[0][0]']  \n",
      "                                                                                                  \n",
      " DENSE_LAYER_1 (Dense)          (None, 64)           5952        ['STATIC_INPUT[0][0]']           \n",
      "                                                                                                  \n",
      " CONCATENATED_TIMESERIES_STATIC  (None, 192)         0           ['DROPOUT_LAYER_2[0][0]',        \n",
      "  (Concatenate)                                                   'DENSE_LAYER_1[0][0]']          \n",
      "                                                                                                  \n",
      " DENSE_LAYER_2 (Dense)          (None, 64)           12352       ['CONCATENATED_TIMESERIES_STATIC[\n",
      "                                                                 0][0]']                          \n",
      "                                                                                                  \n",
      " OUTPUT_LAYER (Dense)           (None, 1)            65          ['DENSE_LAYER_2[0][0]']          \n",
      "                                                                                                  \n",
      "==================================================================================================\n",
      "Total params: 349,633\n",
      "Trainable params: 349,633\n",
      "Non-trainable params: 0\n",
      "__________________________________________________________________________________________________\n"
     ]
    }
   ],
   "source": [
    "model.summary()"
   ]
  },
  {
   "cell_type": "code",
   "execution_count": 64,
   "id": "3b3c4a84",
   "metadata": {},
   "outputs": [],
   "source": [
    "history = model.fit([np.asarray(x_train_reshape).astype('float32'), np.asarray(x_train_over_static).astype('float32')], y_train, epochs=epochs, batch_size=batch_size, verbose=verbose, validation_data=([np.asarray(x_val_reshape).astype('float32'), np.asarray(x_val_over_static).astype('float32')], y_val))"
   ]
  },
  {
   "cell_type": "code",
   "execution_count": 65,
   "id": "80bd12dd",
   "metadata": {},
   "outputs": [
    {
     "data": {
      "image/png": "[encoded data removed]",
      "text/plain": [
       "<Figure size 432x288 with 1 Axes>"
      ]
     },
     "metadata": {
      "needs_background": "light"
     },
     "output_type": "display_data"
    }
   ],
   "source": [
    "# summarize history for loss\n",
    "plt.plot(history.history['loss'])\n",
    "plt.plot(history.history['val_loss'])\n",
    "plt.title('model loss')\n",
    "plt.ylabel('loss')\n",
    "plt.xlabel('epoch')\n",
    "plt.legend(['train', 'validation'], loc='upper left')\n",
    "plt.show()"
   ]
  },
  {
   "cell_type": "code",
   "execution_count": 66,
   "id": "22c9b8f6",
   "metadata": {},
   "outputs": [
    {
     "name": "stdout",
     "output_type": "stream",
     "text": [
      "418/418 [==============================] - 4s 8ms/step\n"
     ]
    },
    {
     "data": {
      "text/plain": [
       "array([[5.751064 ],\n",
       "       [2.655223 ],\n",
       "       [2.4469156],\n",
       "       ...,\n",
       "       [6.964774 ],\n",
       "       [2.973832 ],\n",
       "       [2.9055977]], dtype=float32)"
      ]
     },
     "execution_count": 66,
     "metadata": {},
     "output_type": "execute_result"
    }
   ],
   "source": [
    "y_pred = model.predict([np.asarray(x_test_reshape).astype('float32'),np.asarray(x_test_over_static).astype('float32')])\n",
    "y_pred"
   ]
  },
  {
   "cell_type": "code",
   "execution_count": 67,
   "id": "8298ab2c",
   "metadata": {},
   "outputs": [
    {
     "data": {
      "text/plain": [
       "[14.388675689697266,\n",
       " 2.037102699279785,\n",
       " 14.100433349609375,\n",
       " 64.79232025146484,\n",
       " 0.24846649169921875]"
      ]
     },
     "execution_count": 67,
     "metadata": {},
     "output_type": "execute_result"
    }
   ],
   "source": [
    "output = model.evaluate([np.asarray(x_test_reshape).astype('float32'),np.asarray(x_test_over_static).astype('float32')], y_test, batch_size=batch_size, verbose=0)\n",
    "output"
   ]
  },
  {
   "cell_type": "code",
   "execution_count": 68,
   "id": "ac664b2f",
   "metadata": {},
   "outputs": [
    {
     "ename": "NameError",
     "evalue": "name 'mse' is not defined",
     "output_type": "error",
     "traceback": [
      "\u001b[0;31m---------------------------------------------------------------------------\u001b[0m",
      "\u001b[0;31mNameError\u001b[0m                                 Traceback (most recent call last)",
      "\u001b[0;32m<ipython-input-68-4bc25f6b67a2>\u001b[0m in \u001b[0;36m<module>\u001b[0;34m\u001b[0m\n\u001b[0;32m----> 1\u001b[0;31m \u001b[0mprint\u001b[0m\u001b[0;34m(\u001b[0m\u001b[0;34m\"MSE:{} MAE:{}\"\u001b[0m\u001b[0;34m.\u001b[0m\u001b[0mformat\u001b[0m\u001b[0;34m(\u001b[0m\u001b[0mmse\u001b[0m\u001b[0;34m,\u001b[0m \u001b[0mmae\u001b[0m\u001b[0;34m)\u001b[0m\u001b[0;34m)\u001b[0m\u001b[0;34m\u001b[0m\u001b[0;34m\u001b[0m\u001b[0m\n\u001b[0m",
      "\u001b[0;31mNameError\u001b[0m: name 'mse' is not defined"
     ]
    }
   ],
   "source": [
    "print(\"MSE:{} MAE:{}\".format(mse, mae))"
   ]
  },
  {
   "cell_type": "code",
   "execution_count": null,
   "id": "5c4cc62a",
   "metadata": {},
   "outputs": [],
   "source": []
  }
 ],
 "metadata": {
  "kernelspec": {
   "display_name": "Python 3 (ipykernel)",
   "language": "python",
   "name": "python3"
  },
  "language_info": {
   "codemirror_mode": {
    "name": "ipython",
    "version": 3
   },
   "file_extension": ".py",
   "mimetype": "text/x-python",
   "name": "python",
   "nbconvert_exporter": "python",
   "pygments_lexer": "ipython3",
   "version": "3.8.8"
  }
 },
 "nbformat": 4,
 "nbformat_minor": 5
}
