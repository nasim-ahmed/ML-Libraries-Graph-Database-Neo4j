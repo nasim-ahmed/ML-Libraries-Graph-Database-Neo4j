{
 "cells": [
  {
   "cell_type": "code",
   "execution_count": 228,
   "id": "e9e758df",
   "metadata": {},
   "outputs": [],
   "source": [
    "import numpy as np\n",
    "import pandas as pd\n",
    "import matplotlib.pyplot as plt\n",
    "import seaborn as sns\n",
    "import tensorflow as tf\n",
    "from tensorflow.keras.models import Sequential\n",
    "from tensorflow.keras.layers import Dense\n",
    "from tensorflow.keras.layers import LSTM\n",
    "from tensorflow.keras.layers import Bidirectional\n",
    "from tensorflow.keras.layers import Input\n",
    "from tensorflow.keras.layers import Dropout\n",
    "from tensorflow.keras import regularizers\n",
    "from tensorflow.keras.layers import Concatenate\n",
    "from tensorflow.keras import Model\n",
    "from keras import backend as K\n",
    "from tensorflow.keras.metrics import AUC\n",
    "from sklearn.metrics import ConfusionMatrixDisplay\n",
    "from sklearn.metrics import confusion_matrix"
   ]
  },
  {
   "cell_type": "code",
   "execution_count": 229,
   "id": "f9311b48",
   "metadata": {},
   "outputs": [],
   "source": [
    "#Train dataset creation\n",
    "num_steps = 24\n",
    "num_features_t = 35\n",
    "timeseries_train_df = pd.read_csv('/media/nasim/31c299f0-f952-4032-9bd8-001b141183e0/ML-Libraries-Graph-Database-Neo4j/PyG-Neo4j/app/eICU_data/train/timeseries.csv')\n",
    "flat_train_df = pd.read_csv('/media/nasim/31c299f0-f952-4032-9bd8-001b141183e0/ML-Libraries-Graph-Database-Neo4j/PyG-Neo4j/app/eICU_data/train/flat.csv')\n",
    "labels_train_df = pd.read_csv('/media/nasim/31c299f0-f952-4032-9bd8-001b141183e0/ML-Libraries-Graph-Database-Neo4j/PyG-Neo4j/app/eICU_data/train/labels.csv')\n",
    "arr_timeseries_train = timeseries_train_df.values\n",
    "x_train_reshape = np.reshape(arr_timeseries_train, (-1, num_steps, num_features_t))\n",
    "x_train_reshape = x_train_reshape[:, :, 1:] # Removed patient column\n",
    "\n",
    "flat_train_df = flat_train_df.fillna(flat_train_df.mean())\n",
    "x_train_over_static = flat_train_df.iloc[:, 1:]\n",
    "\n",
    "y_train = labels_train_df['actualhospitalmortality']\n",
    "#y_train = np.expand_dims(y_train, axis=1) # adding 1 to the second dimension\n",
    "#y_train_reshape = np.reshape(y_train, (-1, num_steps))\n",
    "#y_train_reshape.shape"
   ]
  },
  {
   "cell_type": "code",
   "execution_count": 230,
   "id": "023d8d6a",
   "metadata": {},
   "outputs": [],
   "source": [
    "#Test dataset creation\n",
    "num_steps = 24\n",
    "num_features_t = 35\n",
    "timeseries_test_df = pd.read_csv('/media/nasim/31c299f0-f952-4032-9bd8-001b141183e0/ML-Libraries-Graph-Database-Neo4j/PyG-Neo4j/app/eICU_data/test/timeseries.csv')\n",
    "flat_test_df = pd.read_csv('/media/nasim/31c299f0-f952-4032-9bd8-001b141183e0/ML-Libraries-Graph-Database-Neo4j/PyG-Neo4j/app/eICU_data/test/flat.csv')\n",
    "labels_test_df = pd.read_csv('/media/nasim/31c299f0-f952-4032-9bd8-001b141183e0/ML-Libraries-Graph-Database-Neo4j/PyG-Neo4j/app/eICU_data/test/labels.csv')\n",
    "arr_timeseries_test = timeseries_test_df.values\n",
    "x_test_reshape = np.reshape(arr_timeseries_test, (-1, num_steps, num_features_t))\n",
    "x_test_reshape = x_test_reshape[:, :, 1:] # Removed patient column\n",
    "\n",
    "flat_test_df = flat_test_df.fillna(flat_train_df.mean())\n",
    "x_test_over_static = flat_test_df.iloc[:, 1:]\n",
    "\n",
    "y_test = labels_test_df['actualhospitalmortality']\n",
    "#y_val = np.expand_dims(y_val, axis=1) # adding 1 to the second dimension\n",
    "#y_val_reshape = np.reshape(y_val, (-1, num_steps))\n",
    "#x_val_over_static.shape\n"
   ]
  },
  {
   "cell_type": "code",
   "execution_count": 231,
   "id": "36b74a34",
   "metadata": {},
   "outputs": [
    {
     "data": {
      "text/plain": [
       "(13369,)"
      ]
     },
     "execution_count": 231,
     "metadata": {},
     "output_type": "execute_result"
    }
   ],
   "source": [
    "#Validation dataset creation\n",
    "num_steps = 24\n",
    "num_features_t = 35\n",
    "timeseries_val_df = pd.read_csv('/media/nasim/31c299f0-f952-4032-9bd8-001b141183e0/ML-Libraries-Graph-Database-Neo4j/PyG-Neo4j/app/eICU_data/val/timeseries.csv')\n",
    "flat_val_df = pd.read_csv('/media/nasim/31c299f0-f952-4032-9bd8-001b141183e0/ML-Libraries-Graph-Database-Neo4j/PyG-Neo4j/app/eICU_data/val/flat.csv')\n",
    "labels_val_df = pd.read_csv('/media/nasim/31c299f0-f952-4032-9bd8-001b141183e0/ML-Libraries-Graph-Database-Neo4j/PyG-Neo4j/app/eICU_data/val/labels.csv')\n",
    "arr_timeseries_val = timeseries_val_df.values\n",
    "x_val_reshape = np.reshape(arr_timeseries_val, (-1, num_steps, num_features_t))\n",
    "x_val_reshape = x_val_reshape[:, :, 1:] # Removed patient column\n",
    "\n",
    "flat_val_df = flat_val_df.fillna(flat_train_df.mean())\n",
    "x_val_over_static = flat_val_df.iloc[:, 1:]\n",
    "\n",
    "y_val = labels_val_df['actualhospitalmortality']\n",
    "#y_val = np.expand_dims(y_val, axis=1) # adding 1 to the second dimension\n",
    "#y_val_reshape = np.reshape(y_val, (-1, num_steps))\n",
    "#x_val_over_static.shape\n",
    "y_val.shape"
   ]
  },
  {
   "cell_type": "code",
   "execution_count": 232,
   "id": "029ffee4",
   "metadata": {},
   "outputs": [],
   "source": [
    "# Define timesteps and the number of featuresn_timesteps = 24\n",
    "n_timesteps = 24\n",
    "n_features = 34\n",
    "n_outputs = 1\n",
    "epochs = 5\n",
    "batch_size = 64\n",
    "verbose = False"
   ]
  },
  {
   "cell_type": "code",
   "execution_count": 233,
   "id": "7ed68be2",
   "metadata": {},
   "outputs": [],
   "source": [
    "# Define input layer\n",
    "recurrent_input = Input(shape=(n_timesteps,n_features),name=\"TIMESERIES_INPUT\")\n",
    "\n",
    "static_input = Input(shape=(x_train_over_static.shape[1], ),name=\"STATIC_INPUT\")"
   ]
  },
  {
   "cell_type": "code",
   "execution_count": 234,
   "id": "43dd85a0",
   "metadata": {},
   "outputs": [],
   "source": [
    "# layer - 1\n",
    "rec_layer_one = Bidirectional(LSTM(128, kernel_regularizer=regularizers.L2(0.01), recurrent_regularizer=regularizers.L2(0.01),return_sequences=True),name =\"BIDIRECTIONAL_LAYER_1\")(recurrent_input)\n",
    "rec_layer_one = Dropout(0.1,name =\"DROPOUT_LAYER_1\")(rec_layer_one)\n",
    "# layer - 2\n",
    "rec_layer_two = Bidirectional(LSTM(64, kernel_regularizer=regularizers.L2(0.01), recurrent_regularizer=regularizers.L2(0.01)),name =\"BIDIRECTIONAL_LAYER_2\")(rec_layer_one)\n",
    "rec_layer_two = Dropout(0.1,name =\"DROPOUT_LAYER_2\")(rec_layer_two)\n",
    "# SLP Layers\n",
    "static_layer_one = Dense(64,  kernel_regularizer=regularizers.L2(0.001),  activation='relu',name=\"DENSE_LAYER_1\")(static_input)"
   ]
  },
  {
   "cell_type": "code",
   "execution_count": 235,
   "id": "5f241543",
   "metadata": {},
   "outputs": [],
   "source": [
    "# Combine layers - RNN + SLP\n",
    "combined = Concatenate(axis= 1,name = \"CONCATENATED_TIMESERIES_STATIC\")([rec_layer_two,static_layer_one])\n",
    "combined_dense_two = Dense(64, activation='relu',name=\"DENSE_LAYER_2\")(combined)\n",
    "output = Dense(n_outputs,activation='sigmoid',name=\"OUTPUT_LAYER\")(combined_dense_two)"
   ]
  },
  {
   "cell_type": "code",
   "execution_count": 236,
   "id": "444dac7b",
   "metadata": {},
   "outputs": [],
   "source": [
    "# Compile ModeL\n",
    "model = Model(inputs=[recurrent_input,static_input],outputs=[output])"
   ]
  },
  {
   "cell_type": "code",
   "execution_count": 237,
   "id": "aeec6645",
   "metadata": {},
   "outputs": [],
   "source": [
    "# Define metrics for evaluating the model - recall, precision and f1-score\n",
    "def recall_m(y_true, y_pred):\n",
    "    true_positives = np.sum(np.round(np.clip(y_true * y_pred, 0, 1)))\n",
    "    possible_positives = np.sum(np.round(np.clip(y_true, 0, 1)))\n",
    "    recall = true_positives / (possible_positives + np.epsilon())\n",
    "    return recall                     "
   ]
  },
  {
   "cell_type": "code",
   "execution_count": 238,
   "id": "4c83ec35",
   "metadata": {},
   "outputs": [],
   "source": [
    "def precision_m(y_true, y_pred):\n",
    "    true_positives = np.sum(np.round(np.clip(y_true * y_pred, 0, 1)))\n",
    "    predicted_positives = np.sum(np.round(np.clip(y_pred, 0, 1)))\n",
    "    precision = true_positives / (predicted_positives + np.epsilon())\n",
    "    return precision"
   ]
  },
  {
   "cell_type": "code",
   "execution_count": 239,
   "id": "465d2b5c",
   "metadata": {},
   "outputs": [],
   "source": [
    "def f1_m(y_true, y_pred):\n",
    "    precision = precision_m(y_true, y_pred)\n",
    "    recall = recall_m(y_true, y_pred)\n",
    "    return 2*((precision*recall)/(precision+recall+np.epsilon()))"
   ]
  },
  {
   "cell_type": "code",
   "execution_count": 240,
   "id": "38cc1a67",
   "metadata": {},
   "outputs": [],
   "source": [
    "#Calculate confusion matrix\n",
    "def TP(y_true, y_pred):\n",
    "    tp = K.sum(K.round(K.clip(y_true * y_pred, 0, 1))) # TP\n",
    "    y_pos = K.round(K.clip(y_true, 0, 1))\n",
    "    n_pos = K.sum(y_pos)\n",
    "    y_neg = 1 - y_pos\n",
    "    n_neg = K.sum(y_neg)\n",
    "    n = n_pos + n_neg\n",
    "    return tp/n\n",
    "\n",
    "def TN(y_true, y_pred):\n",
    "    y_pos = K.round(K.clip(y_true, 0, 1))\n",
    "    n_pos = K.sum(y_pos)\n",
    "    y_neg = 1 - y_pos\n",
    "    n_neg = K.sum(y_neg)\n",
    "    n = n_pos + n_neg\n",
    "    y_pred_pos = K.round(K.clip(y_pred, 0, 1))\n",
    "    y_pred_neg = 1 - y_pred_pos\n",
    "    tn = K.sum(K.round(K.clip(y_neg * y_pred_neg, 0, 1))) # TN\n",
    "    return tn/n\n",
    "\n",
    "def FP(y_true, y_pred):\n",
    "    y_pos = K.round(K.clip(y_true, 0, 1))\n",
    "    n_pos = K.sum(y_pos)\n",
    "    y_neg = 1 - y_pos\n",
    "    n_neg = K.sum(y_neg)\n",
    "    n = n_pos + n_neg\n",
    "    tn = K.sum(K.round(K.clip(y_neg * y_pred, 0, 1))) # FP\n",
    "    return tn/n\n",
    "\n",
    "def FN(y_true, y_pred):\n",
    "    y_pos = K.round(K.clip(y_true, 0, 1))\n",
    "    n_pos = K.sum(y_pos)\n",
    "    y_neg = 1 - y_pos\n",
    "    n_neg = K.sum(y_neg)\n",
    "    n = n_pos + n_neg\n",
    "    y_pred_pos = K.round(K.clip(y_pred, 0, 1))\n",
    "    y_pred_neg = 1 - y_pred_pos\n",
    "    tn = K.sum(K.round(K.clip(y_true * y_pred_neg, 0, 1))) # FN\n",
    "    return tn/n"
   ]
  },
  {
   "cell_type": "code",
   "execution_count": 241,
   "id": "187f8747",
   "metadata": {},
   "outputs": [],
   "source": [
    "# binary cross entropy loss\n",
    "model.compile(loss='binary_crossentropy', optimizer='adam', metrics=['accuracy', AUC(curve=\"ROC\"), AUC(curve=\"PR\"), TP, TN, FP, FN])"
   ]
  },
  {
   "cell_type": "code",
   "execution_count": 242,
   "id": "1a641474",
   "metadata": {},
   "outputs": [
    {
     "name": "stdout",
     "output_type": "stream",
     "text": [
      "Model: \"model_11\"\n",
      "__________________________________________________________________________________________________\n",
      " Layer (type)                   Output Shape         Param #     Connected to                     \n",
      "==================================================================================================\n",
      " TIMESERIES_INPUT (InputLayer)  [(None, 24, 34)]     0           []                               \n",
      "                                                                                                  \n",
      " BIDIRECTIONAL_LAYER_1 (Bidirec  (None, 24, 256)     166912      ['TIMESERIES_INPUT[0][0]']       \n",
      " tional)                                                                                          \n",
      "                                                                                                  \n",
      " DROPOUT_LAYER_1 (Dropout)      (None, 24, 256)      0           ['BIDIRECTIONAL_LAYER_1[0][0]']  \n",
      "                                                                                                  \n",
      " BIDIRECTIONAL_LAYER_2 (Bidirec  (None, 128)         164352      ['DROPOUT_LAYER_1[0][0]']        \n",
      " tional)                                                                                          \n",
      "                                                                                                  \n",
      " STATIC_INPUT (InputLayer)      [(None, 92)]         0           []                               \n",
      "                                                                                                  \n",
      " DROPOUT_LAYER_2 (Dropout)      (None, 128)          0           ['BIDIRECTIONAL_LAYER_2[0][0]']  \n",
      "                                                                                                  \n",
      " DENSE_LAYER_1 (Dense)          (None, 64)           5952        ['STATIC_INPUT[0][0]']           \n",
      "                                                                                                  \n",
      " CONCATENATED_TIMESERIES_STATIC  (None, 192)         0           ['DROPOUT_LAYER_2[0][0]',        \n",
      "  (Concatenate)                                                   'DENSE_LAYER_1[0][0]']          \n",
      "                                                                                                  \n",
      " DENSE_LAYER_2 (Dense)          (None, 64)           12352       ['CONCATENATED_TIMESERIES_STATIC[\n",
      "                                                                 0][0]']                          \n",
      "                                                                                                  \n",
      " OUTPUT_LAYER (Dense)           (None, 1)            65          ['DENSE_LAYER_2[0][0]']          \n",
      "                                                                                                  \n",
      "==================================================================================================\n",
      "Total params: 349,633\n",
      "Trainable params: 349,633\n",
      "Non-trainable params: 0\n",
      "__________________________________________________________________________________________________\n"
     ]
    }
   ],
   "source": [
    "model.summary()"
   ]
  },
  {
   "cell_type": "code",
   "execution_count": 243,
   "id": "c2b02971",
   "metadata": {},
   "outputs": [],
   "source": [
    "history = model.fit([np.asarray(x_train_reshape).astype('float32'), np.asarray(x_train_over_static).astype('float32')], y_train, epochs=epochs, batch_size=batch_size, verbose=verbose, validation_data=([np.asarray(x_val_reshape).astype('float32'), np.asarray(x_val_over_static).astype('float32')], y_val))"
   ]
  },
  {
   "cell_type": "code",
   "execution_count": 244,
   "id": "a28ad4a2",
   "metadata": {},
   "outputs": [
    {
     "data": {
      "image/png": "[encoded data removed]",
      "text/plain": [
       "<Figure size 432x288 with 1 Axes>"
      ]
     },
     "metadata": {
      "needs_background": "light"
     },
     "output_type": "display_data"
    }
   ],
   "source": [
    "#summarize history for accuracy\n",
    "plt.plot(history.history['accuracy'])\n",
    "plt.plot(history.history['val_accuracy'])\n",
    "plt.title('model accuracy')\n",
    "plt.ylabel('accuracy')\n",
    "plt.xlabel('epoch')\n",
    "plt.legend(['train', 'validation'], loc='upper left')\n",
    "plt.show()"
   ]
  },
  {
   "cell_type": "code",
   "execution_count": 245,
   "id": "86db5129",
   "metadata": {},
   "outputs": [
    {
     "data": {
      "image/png": "[encoded data removed]",
      "text/plain": [
       "<Figure size 432x288 with 1 Axes>"
      ]
     },
     "metadata": {
      "needs_background": "light"
     },
     "output_type": "display_data"
    }
   ],
   "source": [
    "# summarize history for loss\n",
    "plt.plot(history.history['loss'])\n",
    "plt.plot(history.history['val_loss'])\n",
    "plt.title('model loss')\n",
    "plt.ylabel('loss')\n",
    "plt.xlabel('epoch')\n",
    "plt.legend(['train', 'validation'], loc='upper left')\n",
    "plt.show()"
   ]
  },
  {
   "cell_type": "code",
   "execution_count": 246,
   "id": "e23bb548",
   "metadata": {},
   "outputs": [],
   "source": [
    "loss, accuracy, AUROC, AUPRC, TP, TN, FP, FN = model.evaluate([np.asarray(x_test_reshape).astype('float32'),np.asarray(x_test_over_static).astype('float32')], y_test, batch_size=batch_size, verbose=0)"
   ]
  },
  {
   "cell_type": "code",
   "execution_count": 247,
   "id": "c0b8b239",
   "metadata": {},
   "outputs": [
    {
     "name": "stdout",
     "output_type": "stream",
     "text": [
      "418/418 [==============================] - 5s 9ms/step\n",
      "[0 0 0 ... 0 0 0]\n"
     ]
    },
    {
     "data": {
      "image/png": "[encoded data removed]",
      "text/plain": [
       "<Figure size 432x288 with 2 Axes>"
      ]
     },
     "metadata": {
      "needs_background": "light"
     },
     "output_type": "display_data"
    }
   ],
   "source": [
    "#y_pred = model.predict_classes([np.asarray(x_test_reshape).astype('float32'),np.asarray(x_test_over_static).astype('float32')])\n",
    "\n",
    "y_pred = np.argmax(model.predict([np.asarray(x_test_reshape).astype('float32'),np.asarray(x_test_over_static).astype('float32')]), axis=1)\n",
    "\n",
    "print(y_pred)\n",
    "\n",
    "cm = confusion_matrix(y_test, y_pred)\n",
    "labels = [\"Positive\", \"Negative\"]\n",
    "\n",
    "disp = ConfusionMatrixDisplay(confusion_matrix=cm, display_labels=labels)\n",
    "\n",
    "disp.plot(cmap=plt.cm.Blues)\n",
    "plt.show()"
   ]
  },
  {
   "cell_type": "code",
   "execution_count": 248,
   "id": "d4c11fd7",
   "metadata": {},
   "outputs": [
    {
     "name": "stdout",
     "output_type": "stream",
     "text": [
      "Accuracy:0.8991697430610657 AUROC:0.7839875817298889 AUPRC:0.3286448121070862 TP:0.00029904305119998753 TN:0.8988316059112549 FP:7.476076279999688e-05 FN:0.10079456120729446\n"
     ]
    }
   ],
   "source": [
    "print(\"Accuracy:{} AUROC:{} AUPRC:{} TP:{} TN:{} FP:{} FN:{}\".format(accuracy, AUROC, AUPRC, TP, TN, FP, FN))"
   ]
  },
  {
   "cell_type": "code",
   "execution_count": null,
   "id": "d900158f",
   "metadata": {},
   "outputs": [],
   "source": []
  }
 ],
 "metadata": {
  "kernelspec": {
   "display_name": "Python 3 (ipykernel)",
   "language": "python",
   "name": "python3"
  },
  "language_info": {
   "codemirror_mode": {
    "name": "ipython",
    "version": 3
   },
   "file_extension": ".py",
   "mimetype": "text/x-python",
   "name": "python",
   "nbconvert_exporter": "python",
   "pygments_lexer": "ipython3",
   "version": "3.8.8"
  }
 },
 "nbformat": 4,
 "nbformat_minor": 5
}
